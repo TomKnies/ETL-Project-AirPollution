{
 "cells": [
  {
   "cell_type": "code",
   "execution_count": 1,
   "metadata": {},
   "outputs": [],
   "source": [
    "import pandas as pd"
   ]
  },
  {
   "cell_type": "code",
   "execution_count": 2,
   "metadata": {},
   "outputs": [
    {
     "output_type": "execute_result",
     "data": {
      "text/plain": "   Year       SO2       NO2        O3        CO       PM10      PM2.5\n0  2017  0.003205  0.027870  0.023104  0.517864  44.379726  24.565429\n1  2018 -0.001097  0.023507  0.018097  0.494565  41.765160  24.132342\n2  2019 -0.007743  0.015901  0.012500  0.515463  45.040105  27.639217",
      "text/html": "<div>\n<style scoped>\n    .dataframe tbody tr th:only-of-type {\n        vertical-align: middle;\n    }\n\n    .dataframe tbody tr th {\n        vertical-align: top;\n    }\n\n    .dataframe thead th {\n        text-align: right;\n    }\n</style>\n<table border=\"1\" class=\"dataframe\">\n  <thead>\n    <tr style=\"text-align: right;\">\n      <th></th>\n      <th>Year</th>\n      <th>SO2</th>\n      <th>NO2</th>\n      <th>O3</th>\n      <th>CO</th>\n      <th>PM10</th>\n      <th>PM2.5</th>\n    </tr>\n  </thead>\n  <tbody>\n    <tr>\n      <td>0</td>\n      <td>2017</td>\n      <td>0.003205</td>\n      <td>0.027870</td>\n      <td>0.023104</td>\n      <td>0.517864</td>\n      <td>44.379726</td>\n      <td>24.565429</td>\n    </tr>\n    <tr>\n      <td>1</td>\n      <td>2018</td>\n      <td>-0.001097</td>\n      <td>0.023507</td>\n      <td>0.018097</td>\n      <td>0.494565</td>\n      <td>41.765160</td>\n      <td>24.132342</td>\n    </tr>\n    <tr>\n      <td>2</td>\n      <td>2019</td>\n      <td>-0.007743</td>\n      <td>0.015901</td>\n      <td>0.012500</td>\n      <td>0.515463</td>\n      <td>45.040105</td>\n      <td>27.639217</td>\n    </tr>\n  </tbody>\n</table>\n</div>"
     },
     "metadata": {},
     "execution_count": 2
    }
   ],
   "source": [
    "file_info = \"Seoul.csv\"\n",
    "Seoul_df = pd.read_csv(file_info)\n",
    "Seoul_df"
   ]
  },
  {
   "cell_type": "code",
   "execution_count": 8,
   "metadata": {},
   "outputs": [
    {
     "output_type": "execute_result",
     "data": {
      "text/plain": "   Year       SO2      NO2        O3        CO       PM10      PM2.5\n0  2017  0.003205  0.02787  0.023104  0.517864  44.379726  24.565429",
      "text/html": "<div>\n<style scoped>\n    .dataframe tbody tr th:only-of-type {\n        vertical-align: middle;\n    }\n\n    .dataframe tbody tr th {\n        vertical-align: top;\n    }\n\n    .dataframe thead th {\n        text-align: right;\n    }\n</style>\n<table border=\"1\" class=\"dataframe\">\n  <thead>\n    <tr style=\"text-align: right;\">\n      <th></th>\n      <th>Year</th>\n      <th>SO2</th>\n      <th>NO2</th>\n      <th>O3</th>\n      <th>CO</th>\n      <th>PM10</th>\n      <th>PM2.5</th>\n    </tr>\n  </thead>\n  <tbody>\n    <tr>\n      <td>0</td>\n      <td>2017</td>\n      <td>0.003205</td>\n      <td>0.02787</td>\n      <td>0.023104</td>\n      <td>0.517864</td>\n      <td>44.379726</td>\n      <td>24.565429</td>\n    </tr>\n  </tbody>\n</table>\n</div>"
     },
     "metadata": {},
     "execution_count": 8
    }
   ],
   "source": [
    "Seoul17_df = Seoul_df.loc[Seoul_df['Year'] == 2017]\n",
    "\n",
    "Seoul17_df"
   ]
  },
  {
   "cell_type": "code",
   "execution_count": 12,
   "metadata": {},
   "outputs": [
    {
     "output_type": "execute_result",
     "data": {
      "text/plain": "   Year       SO2       NO2        O3        CO      PM10      PM2.5\n1  2018 -0.001097  0.023507  0.018097  0.494565  41.76516  24.132342",
      "text/html": "<div>\n<style scoped>\n    .dataframe tbody tr th:only-of-type {\n        vertical-align: middle;\n    }\n\n    .dataframe tbody tr th {\n        vertical-align: top;\n    }\n\n    .dataframe thead th {\n        text-align: right;\n    }\n</style>\n<table border=\"1\" class=\"dataframe\">\n  <thead>\n    <tr style=\"text-align: right;\">\n      <th></th>\n      <th>Year</th>\n      <th>SO2</th>\n      <th>NO2</th>\n      <th>O3</th>\n      <th>CO</th>\n      <th>PM10</th>\n      <th>PM2.5</th>\n    </tr>\n  </thead>\n  <tbody>\n    <tr>\n      <td>1</td>\n      <td>2018</td>\n      <td>-0.001097</td>\n      <td>0.023507</td>\n      <td>0.018097</td>\n      <td>0.494565</td>\n      <td>41.76516</td>\n      <td>24.132342</td>\n    </tr>\n  </tbody>\n</table>\n</div>"
     },
     "metadata": {},
     "execution_count": 12
    }
   ],
   "source": [
    "Seoul18_df = Seoul_df.loc[Seoul_df['Year'] == 2018]\n",
    "Seoul18_df"
   ]
  },
  {
   "cell_type": "code",
   "execution_count": 13,
   "metadata": {},
   "outputs": [
    {
     "output_type": "execute_result",
     "data": {
      "text/plain": "   Year       SO2       NO2      O3        CO       PM10      PM2.5\n2  2019 -0.007743  0.015901  0.0125  0.515463  45.040105  27.639217",
      "text/html": "<div>\n<style scoped>\n    .dataframe tbody tr th:only-of-type {\n        vertical-align: middle;\n    }\n\n    .dataframe tbody tr th {\n        vertical-align: top;\n    }\n\n    .dataframe thead th {\n        text-align: right;\n    }\n</style>\n<table border=\"1\" class=\"dataframe\">\n  <thead>\n    <tr style=\"text-align: right;\">\n      <th></th>\n      <th>Year</th>\n      <th>SO2</th>\n      <th>NO2</th>\n      <th>O3</th>\n      <th>CO</th>\n      <th>PM10</th>\n      <th>PM2.5</th>\n    </tr>\n  </thead>\n  <tbody>\n    <tr>\n      <td>2</td>\n      <td>2019</td>\n      <td>-0.007743</td>\n      <td>0.015901</td>\n      <td>0.0125</td>\n      <td>0.515463</td>\n      <td>45.040105</td>\n      <td>27.639217</td>\n    </tr>\n  </tbody>\n</table>\n</div>"
     },
     "metadata": {},
     "execution_count": 13
    }
   ],
   "source": [
    "Seoul19_df = Seoul_df.loc[Seoul_df['Year'] == 2019]\n",
    "Seoul19_df"
   ]
  },
  {
   "cell_type": "code",
   "execution_count": 14,
   "metadata": {},
   "outputs": [],
   "source": [
    "#Seoul17_df.to_csv(\"Seoul_2017.csv\")\n",
    "#Seoul18_df.to_csv(\"Seoul_2018.csv\")\n",
    "#Seoul19_df.to_csv(\"Seoul_2019.csv\")"
   ]
  },
  {
   "cell_type": "code",
   "execution_count": null,
   "metadata": {},
   "outputs": [],
   "source": []
  }
 ],
 "metadata": {
  "language_info": {
   "codemirror_mode": {
    "name": "ipython",
    "version": 3
   },
   "file_extension": ".py",
   "mimetype": "text/x-python",
   "name": "python",
   "nbconvert_exporter": "python",
   "pygments_lexer": "ipython3",
   "version": "3.7.4-final"
  },
  "orig_nbformat": 2,
  "kernelspec": {
   "name": "python3",
   "display_name": "Python 3"
  }
 },
 "nbformat": 4,
 "nbformat_minor": 2
}