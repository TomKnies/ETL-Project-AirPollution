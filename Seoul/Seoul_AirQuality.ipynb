{
 "cells": [
  {
   "cell_type": "code",
   "execution_count": 74,
   "metadata": {},
   "outputs": [],
   "source": [
    "import pandas as pd\n",
    "import datetime\n",
    "import numpy as np"
   ]
  },
  {
   "cell_type": "code",
   "execution_count": 75,
   "metadata": {},
   "outputs": [
    {
     "output_type": "execute_result",
     "data": {
      "text/plain": "   Measurement date  Station code  \\\n0  2017-01-01 00:00           101   \n1  2017-01-01 01:00           101   \n2  2017-01-01 02:00           101   \n3  2017-01-01 03:00           101   \n4  2017-01-01 04:00           101   \n\n                                             Address   Latitude   Longitude  \\\n0  19, Jong-ro 35ga-gil, Jongno-gu, Seoul, Republ...  37.572016  127.005007   \n1  19, Jong-ro 35ga-gil, Jongno-gu, Seoul, Republ...  37.572016  127.005007   \n2  19, Jong-ro 35ga-gil, Jongno-gu, Seoul, Republ...  37.572016  127.005007   \n3  19, Jong-ro 35ga-gil, Jongno-gu, Seoul, Republ...  37.572016  127.005007   \n4  19, Jong-ro 35ga-gil, Jongno-gu, Seoul, Republ...  37.572016  127.005007   \n\n     SO2    NO2     O3   CO  PM10  PM2.5  \n0  0.004  0.059  0.002  1.2  73.0   57.0  \n1  0.004  0.058  0.002  1.2  71.0   59.0  \n2  0.004  0.056  0.002  1.2  70.0   59.0  \n3  0.004  0.056  0.002  1.2  70.0   58.0  \n4  0.003  0.051  0.002  1.2  69.0   61.0  ",
      "text/html": "<div>\n<style scoped>\n    .dataframe tbody tr th:only-of-type {\n        vertical-align: middle;\n    }\n\n    .dataframe tbody tr th {\n        vertical-align: top;\n    }\n\n    .dataframe thead th {\n        text-align: right;\n    }\n</style>\n<table border=\"1\" class=\"dataframe\">\n  <thead>\n    <tr style=\"text-align: right;\">\n      <th></th>\n      <th>Measurement date</th>\n      <th>Station code</th>\n      <th>Address</th>\n      <th>Latitude</th>\n      <th>Longitude</th>\n      <th>SO2</th>\n      <th>NO2</th>\n      <th>O3</th>\n      <th>CO</th>\n      <th>PM10</th>\n      <th>PM2.5</th>\n    </tr>\n  </thead>\n  <tbody>\n    <tr>\n      <td>0</td>\n      <td>2017-01-01 00:00</td>\n      <td>101</td>\n      <td>19, Jong-ro 35ga-gil, Jongno-gu, Seoul, Republ...</td>\n      <td>37.572016</td>\n      <td>127.005007</td>\n      <td>0.004</td>\n      <td>0.059</td>\n      <td>0.002</td>\n      <td>1.2</td>\n      <td>73.0</td>\n      <td>57.0</td>\n    </tr>\n    <tr>\n      <td>1</td>\n      <td>2017-01-01 01:00</td>\n      <td>101</td>\n      <td>19, Jong-ro 35ga-gil, Jongno-gu, Seoul, Republ...</td>\n      <td>37.572016</td>\n      <td>127.005007</td>\n      <td>0.004</td>\n      <td>0.058</td>\n      <td>0.002</td>\n      <td>1.2</td>\n      <td>71.0</td>\n      <td>59.0</td>\n    </tr>\n    <tr>\n      <td>2</td>\n      <td>2017-01-01 02:00</td>\n      <td>101</td>\n      <td>19, Jong-ro 35ga-gil, Jongno-gu, Seoul, Republ...</td>\n      <td>37.572016</td>\n      <td>127.005007</td>\n      <td>0.004</td>\n      <td>0.056</td>\n      <td>0.002</td>\n      <td>1.2</td>\n      <td>70.0</td>\n      <td>59.0</td>\n    </tr>\n    <tr>\n      <td>3</td>\n      <td>2017-01-01 03:00</td>\n      <td>101</td>\n      <td>19, Jong-ro 35ga-gil, Jongno-gu, Seoul, Republ...</td>\n      <td>37.572016</td>\n      <td>127.005007</td>\n      <td>0.004</td>\n      <td>0.056</td>\n      <td>0.002</td>\n      <td>1.2</td>\n      <td>70.0</td>\n      <td>58.0</td>\n    </tr>\n    <tr>\n      <td>4</td>\n      <td>2017-01-01 04:00</td>\n      <td>101</td>\n      <td>19, Jong-ro 35ga-gil, Jongno-gu, Seoul, Republ...</td>\n      <td>37.572016</td>\n      <td>127.005007</td>\n      <td>0.003</td>\n      <td>0.051</td>\n      <td>0.002</td>\n      <td>1.2</td>\n      <td>69.0</td>\n      <td>61.0</td>\n    </tr>\n  </tbody>\n</table>\n</div>"
     },
     "metadata": {},
     "execution_count": 75
    }
   ],
   "source": [
    "file_info = \"AirPollutionSeoul/Measurement_summary.csv\"\n",
    "Seoul_df = pd.read_csv(file_info)\n",
    "Seoul_df.head()"
   ]
  },
  {
   "cell_type": "code",
   "execution_count": 86,
   "metadata": {},
   "outputs": [
    {
     "output_type": "execute_result",
     "data": {
      "text/plain": "        Measurement date  Station code    SO2    NO2     O3   CO  PM10  PM2.5\n0       2017-01-01 00:00           101  0.004  0.059  0.002  1.2  73.0   57.0\n1       2017-01-01 01:00           101  0.004  0.058  0.002  1.2  71.0   59.0\n2       2017-01-01 02:00           101  0.004  0.056  0.002  1.2  70.0   59.0\n3       2017-01-01 03:00           101  0.004  0.056  0.002  1.2  70.0   58.0\n4       2017-01-01 04:00           101  0.003  0.051  0.002  1.2  69.0   61.0\n...                  ...           ...    ...    ...    ...  ...   ...    ...\n647506  2019-12-31 19:00           125  0.003  0.028  0.013  0.5  23.0   17.0\n647507  2019-12-31 20:00           125  0.003  0.025  0.015  0.4  25.0   19.0\n647508  2019-12-31 21:00           125  0.003  0.023  0.015  0.4  24.0   17.0\n647509  2019-12-31 22:00           125  0.003  0.040  0.004  0.5  25.0   18.0\n647510  2019-12-31 23:00           125  0.003  0.037  0.005  0.5  27.0   18.0\n\n[647511 rows x 8 columns]",
      "text/html": "<div>\n<style scoped>\n    .dataframe tbody tr th:only-of-type {\n        vertical-align: middle;\n    }\n\n    .dataframe tbody tr th {\n        vertical-align: top;\n    }\n\n    .dataframe thead th {\n        text-align: right;\n    }\n</style>\n<table border=\"1\" class=\"dataframe\">\n  <thead>\n    <tr style=\"text-align: right;\">\n      <th></th>\n      <th>Measurement date</th>\n      <th>Station code</th>\n      <th>SO2</th>\n      <th>NO2</th>\n      <th>O3</th>\n      <th>CO</th>\n      <th>PM10</th>\n      <th>PM2.5</th>\n    </tr>\n  </thead>\n  <tbody>\n    <tr>\n      <td>0</td>\n      <td>2017-01-01 00:00</td>\n      <td>101</td>\n      <td>0.004</td>\n      <td>0.059</td>\n      <td>0.002</td>\n      <td>1.2</td>\n      <td>73.0</td>\n      <td>57.0</td>\n    </tr>\n    <tr>\n      <td>1</td>\n      <td>2017-01-01 01:00</td>\n      <td>101</td>\n      <td>0.004</td>\n      <td>0.058</td>\n      <td>0.002</td>\n      <td>1.2</td>\n      <td>71.0</td>\n      <td>59.0</td>\n    </tr>\n    <tr>\n      <td>2</td>\n      <td>2017-01-01 02:00</td>\n      <td>101</td>\n      <td>0.004</td>\n      <td>0.056</td>\n      <td>0.002</td>\n      <td>1.2</td>\n      <td>70.0</td>\n      <td>59.0</td>\n    </tr>\n    <tr>\n      <td>3</td>\n      <td>2017-01-01 03:00</td>\n      <td>101</td>\n      <td>0.004</td>\n      <td>0.056</td>\n      <td>0.002</td>\n      <td>1.2</td>\n      <td>70.0</td>\n      <td>58.0</td>\n    </tr>\n    <tr>\n      <td>4</td>\n      <td>2017-01-01 04:00</td>\n      <td>101</td>\n      <td>0.003</td>\n      <td>0.051</td>\n      <td>0.002</td>\n      <td>1.2</td>\n      <td>69.0</td>\n      <td>61.0</td>\n    </tr>\n    <tr>\n      <td>...</td>\n      <td>...</td>\n      <td>...</td>\n      <td>...</td>\n      <td>...</td>\n      <td>...</td>\n      <td>...</td>\n      <td>...</td>\n      <td>...</td>\n    </tr>\n    <tr>\n      <td>647506</td>\n      <td>2019-12-31 19:00</td>\n      <td>125</td>\n      <td>0.003</td>\n      <td>0.028</td>\n      <td>0.013</td>\n      <td>0.5</td>\n      <td>23.0</td>\n      <td>17.0</td>\n    </tr>\n    <tr>\n      <td>647507</td>\n      <td>2019-12-31 20:00</td>\n      <td>125</td>\n      <td>0.003</td>\n      <td>0.025</td>\n      <td>0.015</td>\n      <td>0.4</td>\n      <td>25.0</td>\n      <td>19.0</td>\n    </tr>\n    <tr>\n      <td>647508</td>\n      <td>2019-12-31 21:00</td>\n      <td>125</td>\n      <td>0.003</td>\n      <td>0.023</td>\n      <td>0.015</td>\n      <td>0.4</td>\n      <td>24.0</td>\n      <td>17.0</td>\n    </tr>\n    <tr>\n      <td>647509</td>\n      <td>2019-12-31 22:00</td>\n      <td>125</td>\n      <td>0.003</td>\n      <td>0.040</td>\n      <td>0.004</td>\n      <td>0.5</td>\n      <td>25.0</td>\n      <td>18.0</td>\n    </tr>\n    <tr>\n      <td>647510</td>\n      <td>2019-12-31 23:00</td>\n      <td>125</td>\n      <td>0.003</td>\n      <td>0.037</td>\n      <td>0.005</td>\n      <td>0.5</td>\n      <td>27.0</td>\n      <td>18.0</td>\n    </tr>\n  </tbody>\n</table>\n<p>647511 rows × 8 columns</p>\n</div>"
     },
     "metadata": {},
     "execution_count": 86
    }
   ],
   "source": [
    "Seoul_df = Seoul_df.drop(['Address', 'Latitude', 'Longitude'], axis=1)\n",
    "Seoul_df"
   ]
  },
  {
   "cell_type": "code",
   "execution_count": 87,
   "metadata": {},
   "outputs": [
    {
     "output_type": "stream",
     "name": "stdout",
     "text": "25\n"
    }
   ],
   "source": [
    "stations = Seoul_df['Station code'].nunique()\n",
    "print(stations)"
   ]
  },
  {
   "cell_type": "code",
   "execution_count": 88,
   "metadata": {},
   "outputs": [
    {
     "output_type": "stream",
     "name": "stdout",
     "text": "25\n"
    }
   ],
   "source": [
    "print(len(Seoul_df[(Seoul_df['Measurement date'] == '2017-01-01 00:00')]))"
   ]
  },
  {
   "cell_type": "code",
   "execution_count": 89,
   "metadata": {},
   "outputs": [],
   "source": [
    "Seoul_df2 = Seoul_df.drop(['Station code'], axis=1)"
   ]
  },
  {
   "cell_type": "code",
   "execution_count": 96,
   "metadata": {},
   "outputs": [
    {
     "output_type": "execute_result",
     "data": {
      "text/plain": "       Measurement date      SO2      NO2       O3     CO   PM10  PM2.5\n0      2017-01-01 00:00  0.00532  0.05076  0.00248  1.148  73.08  51.92\n1      2017-01-01 01:00  0.00512  0.04928  0.00256  1.148  69.92  53.12\n2      2017-01-01 02:00  0.00488  0.04752  0.00244  1.132  69.96  51.16\n3      2017-01-01 03:00  0.00468  0.04444  0.00244  1.084  69.68  49.96\n4      2017-01-01 04:00  0.00452  0.04176  0.00240  1.080  65.24  47.72\n...                 ...      ...      ...      ...    ...    ...    ...\n25901  2019-12-31 19:00  0.00308  0.02628  0.01464  0.456  24.24  14.56\n25902  2019-12-31 20:00  0.00312  0.02468  0.01516  0.444  24.64  15.28\n25903  2019-12-31 21:00  0.00296  0.02492  0.01392  0.464  22.80  14.24\n25904  2019-12-31 22:00  0.00300  0.03188  0.00844  0.500  23.04  15.60\n25905  2019-12-31 23:00  0.00300  0.03660  0.00504  0.524  22.08  14.56\n\n[25906 rows x 7 columns]",
      "text/html": "<div>\n<style scoped>\n    .dataframe tbody tr th:only-of-type {\n        vertical-align: middle;\n    }\n\n    .dataframe tbody tr th {\n        vertical-align: top;\n    }\n\n    .dataframe thead th {\n        text-align: right;\n    }\n</style>\n<table border=\"1\" class=\"dataframe\">\n  <thead>\n    <tr style=\"text-align: right;\">\n      <th></th>\n      <th>Measurement date</th>\n      <th>SO2</th>\n      <th>NO2</th>\n      <th>O3</th>\n      <th>CO</th>\n      <th>PM10</th>\n      <th>PM2.5</th>\n    </tr>\n  </thead>\n  <tbody>\n    <tr>\n      <td>0</td>\n      <td>2017-01-01 00:00</td>\n      <td>0.00532</td>\n      <td>0.05076</td>\n      <td>0.00248</td>\n      <td>1.148</td>\n      <td>73.08</td>\n      <td>51.92</td>\n    </tr>\n    <tr>\n      <td>1</td>\n      <td>2017-01-01 01:00</td>\n      <td>0.00512</td>\n      <td>0.04928</td>\n      <td>0.00256</td>\n      <td>1.148</td>\n      <td>69.92</td>\n      <td>53.12</td>\n    </tr>\n    <tr>\n      <td>2</td>\n      <td>2017-01-01 02:00</td>\n      <td>0.00488</td>\n      <td>0.04752</td>\n      <td>0.00244</td>\n      <td>1.132</td>\n      <td>69.96</td>\n      <td>51.16</td>\n    </tr>\n    <tr>\n      <td>3</td>\n      <td>2017-01-01 03:00</td>\n      <td>0.00468</td>\n      <td>0.04444</td>\n      <td>0.00244</td>\n      <td>1.084</td>\n      <td>69.68</td>\n      <td>49.96</td>\n    </tr>\n    <tr>\n      <td>4</td>\n      <td>2017-01-01 04:00</td>\n      <td>0.00452</td>\n      <td>0.04176</td>\n      <td>0.00240</td>\n      <td>1.080</td>\n      <td>65.24</td>\n      <td>47.72</td>\n    </tr>\n    <tr>\n      <td>...</td>\n      <td>...</td>\n      <td>...</td>\n      <td>...</td>\n      <td>...</td>\n      <td>...</td>\n      <td>...</td>\n      <td>...</td>\n    </tr>\n    <tr>\n      <td>25901</td>\n      <td>2019-12-31 19:00</td>\n      <td>0.00308</td>\n      <td>0.02628</td>\n      <td>0.01464</td>\n      <td>0.456</td>\n      <td>24.24</td>\n      <td>14.56</td>\n    </tr>\n    <tr>\n      <td>25902</td>\n      <td>2019-12-31 20:00</td>\n      <td>0.00312</td>\n      <td>0.02468</td>\n      <td>0.01516</td>\n      <td>0.444</td>\n      <td>24.64</td>\n      <td>15.28</td>\n    </tr>\n    <tr>\n      <td>25903</td>\n      <td>2019-12-31 21:00</td>\n      <td>0.00296</td>\n      <td>0.02492</td>\n      <td>0.01392</td>\n      <td>0.464</td>\n      <td>22.80</td>\n      <td>14.24</td>\n    </tr>\n    <tr>\n      <td>25904</td>\n      <td>2019-12-31 22:00</td>\n      <td>0.00300</td>\n      <td>0.03188</td>\n      <td>0.00844</td>\n      <td>0.500</td>\n      <td>23.04</td>\n      <td>15.60</td>\n    </tr>\n    <tr>\n      <td>25905</td>\n      <td>2019-12-31 23:00</td>\n      <td>0.00300</td>\n      <td>0.03660</td>\n      <td>0.00504</td>\n      <td>0.524</td>\n      <td>22.08</td>\n      <td>14.56</td>\n    </tr>\n  </tbody>\n</table>\n<p>25906 rows × 7 columns</p>\n</div>"
     },
     "metadata": {},
     "execution_count": 96
    }
   ],
   "source": [
    "Seoul_avg_df = Seoul_df2.groupby(['Measurement date'], as_index=False).agg({'SO2': 'mean', 'NO2': 'mean', 'O3': 'mean', 'CO': 'mean', 'PM10': 'mean', 'PM2.5': 'mean'})\n",
    "\n",
    "Seoul_avg_df"
   ]
  },
  {
   "cell_type": "code",
   "execution_count": 97,
   "metadata": {},
   "outputs": [
    {
     "output_type": "execute_result",
     "data": {
      "text/plain": "Measurement date     object\nSO2                 float64\nNO2                 float64\nO3                  float64\nCO                  float64\nPM10                float64\nPM2.5               float64\ndtype: object"
     },
     "metadata": {},
     "execution_count": 97
    }
   ],
   "source": [
    "Seoul_avg_df.dtypes"
   ]
  },
  {
   "cell_type": "code",
   "execution_count": 98,
   "metadata": {},
   "outputs": [],
   "source": [
    "from datetime import datetime, timedelta\n",
    "from pandas import DataFrame"
   ]
  },
  {
   "cell_type": "code",
   "execution_count": 107,
   "metadata": {},
   "outputs": [
    {
     "output_type": "execute_result",
     "data": {
      "text/plain": "     Measurement date      SO2      NO2       O3     CO   PM10  PM2.5  Year\n0 2017-01-01 00:00:00  0.00532  0.05076  0.00248  1.148  73.08  51.92  2017\n1 2017-01-01 01:00:00  0.00512  0.04928  0.00256  1.148  69.92  53.12  2017\n2 2017-01-01 02:00:00  0.00488  0.04752  0.00244  1.132  69.96  51.16  2017\n3 2017-01-01 03:00:00  0.00468  0.04444  0.00244  1.084  69.68  49.96  2017\n4 2017-01-01 04:00:00  0.00452  0.04176  0.00240  1.080  65.24  47.72  2017",
      "text/html": "<div>\n<style scoped>\n    .dataframe tbody tr th:only-of-type {\n        vertical-align: middle;\n    }\n\n    .dataframe tbody tr th {\n        vertical-align: top;\n    }\n\n    .dataframe thead th {\n        text-align: right;\n    }\n</style>\n<table border=\"1\" class=\"dataframe\">\n  <thead>\n    <tr style=\"text-align: right;\">\n      <th></th>\n      <th>Measurement date</th>\n      <th>SO2</th>\n      <th>NO2</th>\n      <th>O3</th>\n      <th>CO</th>\n      <th>PM10</th>\n      <th>PM2.5</th>\n      <th>Year</th>\n    </tr>\n  </thead>\n  <tbody>\n    <tr>\n      <td>0</td>\n      <td>2017-01-01 00:00:00</td>\n      <td>0.00532</td>\n      <td>0.05076</td>\n      <td>0.00248</td>\n      <td>1.148</td>\n      <td>73.08</td>\n      <td>51.92</td>\n      <td>2017</td>\n    </tr>\n    <tr>\n      <td>1</td>\n      <td>2017-01-01 01:00:00</td>\n      <td>0.00512</td>\n      <td>0.04928</td>\n      <td>0.00256</td>\n      <td>1.148</td>\n      <td>69.92</td>\n      <td>53.12</td>\n      <td>2017</td>\n    </tr>\n    <tr>\n      <td>2</td>\n      <td>2017-01-01 02:00:00</td>\n      <td>0.00488</td>\n      <td>0.04752</td>\n      <td>0.00244</td>\n      <td>1.132</td>\n      <td>69.96</td>\n      <td>51.16</td>\n      <td>2017</td>\n    </tr>\n    <tr>\n      <td>3</td>\n      <td>2017-01-01 03:00:00</td>\n      <td>0.00468</td>\n      <td>0.04444</td>\n      <td>0.00244</td>\n      <td>1.084</td>\n      <td>69.68</td>\n      <td>49.96</td>\n      <td>2017</td>\n    </tr>\n    <tr>\n      <td>4</td>\n      <td>2017-01-01 04:00:00</td>\n      <td>0.00452</td>\n      <td>0.04176</td>\n      <td>0.00240</td>\n      <td>1.080</td>\n      <td>65.24</td>\n      <td>47.72</td>\n      <td>2017</td>\n    </tr>\n  </tbody>\n</table>\n</div>"
     },
     "metadata": {},
     "execution_count": 107
    }
   ],
   "source": [
    "Seoul_avg_df['Year'] = pd.DatetimeIndex(Seoul_avg_df['Measurement date']).year\n",
    "Seoul_avg_df.head()"
   ]
  },
  {
   "cell_type": "code",
   "execution_count": 108,
   "metadata": {},
   "outputs": [
    {
     "output_type": "execute_result",
     "data": {
      "text/plain": "           SO2      NO2       O3     CO   PM10  PM2.5  Year\n0      0.00532  0.05076  0.00248  1.148  73.08  51.92  2017\n1      0.00512  0.04928  0.00256  1.148  69.92  53.12  2017\n2      0.00488  0.04752  0.00244  1.132  69.96  51.16  2017\n3      0.00468  0.04444  0.00244  1.084  69.68  49.96  2017\n4      0.00452  0.04176  0.00240  1.080  65.24  47.72  2017\n...        ...      ...      ...    ...    ...    ...   ...\n25901  0.00308  0.02628  0.01464  0.456  24.24  14.56  2019\n25902  0.00312  0.02468  0.01516  0.444  24.64  15.28  2019\n25903  0.00296  0.02492  0.01392  0.464  22.80  14.24  2019\n25904  0.00300  0.03188  0.00844  0.500  23.04  15.60  2019\n25905  0.00300  0.03660  0.00504  0.524  22.08  14.56  2019\n\n[25906 rows x 7 columns]",
      "text/html": "<div>\n<style scoped>\n    .dataframe tbody tr th:only-of-type {\n        vertical-align: middle;\n    }\n\n    .dataframe tbody tr th {\n        vertical-align: top;\n    }\n\n    .dataframe thead th {\n        text-align: right;\n    }\n</style>\n<table border=\"1\" class=\"dataframe\">\n  <thead>\n    <tr style=\"text-align: right;\">\n      <th></th>\n      <th>SO2</th>\n      <th>NO2</th>\n      <th>O3</th>\n      <th>CO</th>\n      <th>PM10</th>\n      <th>PM2.5</th>\n      <th>Year</th>\n    </tr>\n  </thead>\n  <tbody>\n    <tr>\n      <td>0</td>\n      <td>0.00532</td>\n      <td>0.05076</td>\n      <td>0.00248</td>\n      <td>1.148</td>\n      <td>73.08</td>\n      <td>51.92</td>\n      <td>2017</td>\n    </tr>\n    <tr>\n      <td>1</td>\n      <td>0.00512</td>\n      <td>0.04928</td>\n      <td>0.00256</td>\n      <td>1.148</td>\n      <td>69.92</td>\n      <td>53.12</td>\n      <td>2017</td>\n    </tr>\n    <tr>\n      <td>2</td>\n      <td>0.00488</td>\n      <td>0.04752</td>\n      <td>0.00244</td>\n      <td>1.132</td>\n      <td>69.96</td>\n      <td>51.16</td>\n      <td>2017</td>\n    </tr>\n    <tr>\n      <td>3</td>\n      <td>0.00468</td>\n      <td>0.04444</td>\n      <td>0.00244</td>\n      <td>1.084</td>\n      <td>69.68</td>\n      <td>49.96</td>\n      <td>2017</td>\n    </tr>\n    <tr>\n      <td>4</td>\n      <td>0.00452</td>\n      <td>0.04176</td>\n      <td>0.00240</td>\n      <td>1.080</td>\n      <td>65.24</td>\n      <td>47.72</td>\n      <td>2017</td>\n    </tr>\n    <tr>\n      <td>...</td>\n      <td>...</td>\n      <td>...</td>\n      <td>...</td>\n      <td>...</td>\n      <td>...</td>\n      <td>...</td>\n      <td>...</td>\n    </tr>\n    <tr>\n      <td>25901</td>\n      <td>0.00308</td>\n      <td>0.02628</td>\n      <td>0.01464</td>\n      <td>0.456</td>\n      <td>24.24</td>\n      <td>14.56</td>\n      <td>2019</td>\n    </tr>\n    <tr>\n      <td>25902</td>\n      <td>0.00312</td>\n      <td>0.02468</td>\n      <td>0.01516</td>\n      <td>0.444</td>\n      <td>24.64</td>\n      <td>15.28</td>\n      <td>2019</td>\n    </tr>\n    <tr>\n      <td>25903</td>\n      <td>0.00296</td>\n      <td>0.02492</td>\n      <td>0.01392</td>\n      <td>0.464</td>\n      <td>22.80</td>\n      <td>14.24</td>\n      <td>2019</td>\n    </tr>\n    <tr>\n      <td>25904</td>\n      <td>0.00300</td>\n      <td>0.03188</td>\n      <td>0.00844</td>\n      <td>0.500</td>\n      <td>23.04</td>\n      <td>15.60</td>\n      <td>2019</td>\n    </tr>\n    <tr>\n      <td>25905</td>\n      <td>0.00300</td>\n      <td>0.03660</td>\n      <td>0.00504</td>\n      <td>0.524</td>\n      <td>22.08</td>\n      <td>14.56</td>\n      <td>2019</td>\n    </tr>\n  </tbody>\n</table>\n<p>25906 rows × 7 columns</p>\n</div>"
     },
     "metadata": {},
     "execution_count": 108
    }
   ],
   "source": [
    "Seoul_avg_df = Seoul_avg_df.drop(columns=['Measurement date'])\n",
    "Seoul_avg_df"
   ]
  },
  {
   "cell_type": "code",
   "execution_count": 109,
   "metadata": {},
   "outputs": [
    {
     "output_type": "execute_result",
     "data": {
      "text/plain": "           SO2       NO2        O3        CO       PM10      PM2.5\nYear                                                              \n2017  0.003205  0.027870  0.023104  0.517864  44.379726  24.565429\n2018 -0.001097  0.023507  0.018097  0.494565  41.765160  24.132342\n2019 -0.007743  0.015901  0.012500  0.515463  45.040105  27.639217",
      "text/html": "<div>\n<style scoped>\n    .dataframe tbody tr th:only-of-type {\n        vertical-align: middle;\n    }\n\n    .dataframe tbody tr th {\n        vertical-align: top;\n    }\n\n    .dataframe thead th {\n        text-align: right;\n    }\n</style>\n<table border=\"1\" class=\"dataframe\">\n  <thead>\n    <tr style=\"text-align: right;\">\n      <th></th>\n      <th>SO2</th>\n      <th>NO2</th>\n      <th>O3</th>\n      <th>CO</th>\n      <th>PM10</th>\n      <th>PM2.5</th>\n    </tr>\n    <tr>\n      <th>Year</th>\n      <th></th>\n      <th></th>\n      <th></th>\n      <th></th>\n      <th></th>\n      <th></th>\n    </tr>\n  </thead>\n  <tbody>\n    <tr>\n      <td>2017</td>\n      <td>0.003205</td>\n      <td>0.027870</td>\n      <td>0.023104</td>\n      <td>0.517864</td>\n      <td>44.379726</td>\n      <td>24.565429</td>\n    </tr>\n    <tr>\n      <td>2018</td>\n      <td>-0.001097</td>\n      <td>0.023507</td>\n      <td>0.018097</td>\n      <td>0.494565</td>\n      <td>41.765160</td>\n      <td>24.132342</td>\n    </tr>\n    <tr>\n      <td>2019</td>\n      <td>-0.007743</td>\n      <td>0.015901</td>\n      <td>0.012500</td>\n      <td>0.515463</td>\n      <td>45.040105</td>\n      <td>27.639217</td>\n    </tr>\n  </tbody>\n</table>\n</div>"
     },
     "metadata": {},
     "execution_count": 109
    }
   ],
   "source": [
    "Seoul_years_df = Seoul_avg_df.groupby(['Year']).agg({'SO2': 'mean', 'NO2': 'mean', 'O3': 'mean', 'CO': 'mean', 'PM10': 'mean', 'PM2.5': 'mean'})\n",
    "\n",
    "Seoul_years_df"
   ]
  },
  {
   "cell_type": "code",
   "execution_count": 110,
   "metadata": {},
   "outputs": [
    {
     "output_type": "execute_result",
     "data": {
      "text/plain": "SO2      float64\nNO2      float64\nO3       float64\nCO       float64\nPM10     float64\nPM2.5    float64\ndtype: object"
     },
     "metadata": {},
     "execution_count": 110
    }
   ],
   "source": [
    "Seoul_years_df.dtypes"
   ]
  },
  {
   "cell_type": "code",
   "execution_count": null,
   "metadata": {},
   "outputs": [],
   "source": []
  }
 ],
 "metadata": {
  "language_info": {
   "codemirror_mode": {
    "name": "ipython",
    "version": 3
   },
   "file_extension": ".py",
   "mimetype": "text/x-python",
   "name": "python",
   "nbconvert_exporter": "python",
   "pygments_lexer": "ipython3",
   "version": "3.7.4-final"
  },
  "orig_nbformat": 2,
  "kernelspec": {
   "name": "python3",
   "display_name": "Python 3"
  }
 },
 "nbformat": 4,
 "nbformat_minor": 2
}