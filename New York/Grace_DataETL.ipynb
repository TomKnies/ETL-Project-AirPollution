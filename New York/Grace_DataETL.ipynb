{
 "cells": [
  {
   "cell_type": "code",
   "execution_count": 1,
   "metadata": {},
   "outputs": [],
   "source": [
    "import pandas as pd\n",
    "from datetime import datetime, timedelta\n",
    "from sqlalchemy import create_engine"
   ]
  },
  {
   "cell_type": "code",
   "execution_count": 2,
   "metadata": {},
   "outputs": [],
   "source": [
    "file = \"EPA_Info.csv\""
   ]
  },
  {
   "cell_type": "code",
   "execution_count": 3,
   "metadata": {},
   "outputs": [
    {
     "output_type": "execute_result",
     "data": {
      "text/plain": "       Date  Carbon Monoxide AQI Value  Main Pollutant      Site Name  \\\n0  1/1/2017                         11             NaN  Elizabeth Lab   \n1  1/2/2017                         13             NaN      Elizabeth   \n2  1/3/2017                          7             NaN      Elizabeth   \n3  1/4/2017                          6             NaN    Jersey City   \n4  1/5/2017                          6             NaN    Jersey City   \n\n       Site ID Source  Nitrogen Dioxide AQI Value  Main Pollutant.1  \\\n0  34-039-0004    AQS                          44               NaN   \n1  34-039-0003    AQS                          43               NaN   \n2  34-039-0003    AQS                          42               NaN   \n3  34-017-1002    AQS                          27               NaN   \n4  34-017-1002    AQS                          28               NaN   \n\n          Site Name.1    Site ID.1  ... Sulfur Dioxide AQI Value  \\\n0       Elizabeth Lab  34-039-0004  ...                        4   \n1             Bayonne  34-017-0006  ...                       17   \n2       Elizabeth Lab  34-039-0004  ...                        1   \n3  Fort Lee Near Road  34-003-0010  ...                        3   \n4         Jersey City  34-017-1002  ...                        3   \n\n   Main Pollutant.4       Site Name.4    Site ID.4 Source.4 PM10 AQI Value  \\\n0               NaN   PFIZER LAB SITE  36-005-0133      AQS            NaN   \n1               NaN   EISENHOWER PARK  36-059-0005      AQS            NaN   \n2               NaN   PFIZER LAB SITE  36-005-0133      AQS            NaN   \n3               NaN           Chester  34-027-3001      AQS            7.0   \n4               NaN  QUEENS COLLEGE 2  36-081-0124      AQS            NaN   \n\n   Main Pollutant.5       Site Name.5    Site ID.5 Source.5  \n0               NaN               NaN          NaN      NaN  \n1               NaN               NaN          NaN      NaN  \n2               NaN               NaN          NaN      NaN  \n3               NaN  Newark Firehouse  34-013-0003      AQS  \n4               NaN               NaN          NaN      NaN  \n\n[5 rows x 31 columns]",
      "text/html": "<div>\n<style scoped>\n    .dataframe tbody tr th:only-of-type {\n        vertical-align: middle;\n    }\n\n    .dataframe tbody tr th {\n        vertical-align: top;\n    }\n\n    .dataframe thead th {\n        text-align: right;\n    }\n</style>\n<table border=\"1\" class=\"dataframe\">\n  <thead>\n    <tr style=\"text-align: right;\">\n      <th></th>\n      <th>Date</th>\n      <th>Carbon Monoxide AQI Value</th>\n      <th>Main Pollutant</th>\n      <th>Site Name</th>\n      <th>Site ID</th>\n      <th>Source</th>\n      <th>Nitrogen Dioxide AQI Value</th>\n      <th>Main Pollutant.1</th>\n      <th>Site Name.1</th>\n      <th>Site ID.1</th>\n      <th>...</th>\n      <th>Sulfur Dioxide AQI Value</th>\n      <th>Main Pollutant.4</th>\n      <th>Site Name.4</th>\n      <th>Site ID.4</th>\n      <th>Source.4</th>\n      <th>PM10 AQI Value</th>\n      <th>Main Pollutant.5</th>\n      <th>Site Name.5</th>\n      <th>Site ID.5</th>\n      <th>Source.5</th>\n    </tr>\n  </thead>\n  <tbody>\n    <tr>\n      <th>0</th>\n      <td>1/1/2017</td>\n      <td>11</td>\n      <td>NaN</td>\n      <td>Elizabeth Lab</td>\n      <td>34-039-0004</td>\n      <td>AQS</td>\n      <td>44</td>\n      <td>NaN</td>\n      <td>Elizabeth Lab</td>\n      <td>34-039-0004</td>\n      <td>...</td>\n      <td>4</td>\n      <td>NaN</td>\n      <td>PFIZER LAB SITE</td>\n      <td>36-005-0133</td>\n      <td>AQS</td>\n      <td>NaN</td>\n      <td>NaN</td>\n      <td>NaN</td>\n      <td>NaN</td>\n      <td>NaN</td>\n    </tr>\n    <tr>\n      <th>1</th>\n      <td>1/2/2017</td>\n      <td>13</td>\n      <td>NaN</td>\n      <td>Elizabeth</td>\n      <td>34-039-0003</td>\n      <td>AQS</td>\n      <td>43</td>\n      <td>NaN</td>\n      <td>Bayonne</td>\n      <td>34-017-0006</td>\n      <td>...</td>\n      <td>17</td>\n      <td>NaN</td>\n      <td>EISENHOWER PARK</td>\n      <td>36-059-0005</td>\n      <td>AQS</td>\n      <td>NaN</td>\n      <td>NaN</td>\n      <td>NaN</td>\n      <td>NaN</td>\n      <td>NaN</td>\n    </tr>\n    <tr>\n      <th>2</th>\n      <td>1/3/2017</td>\n      <td>7</td>\n      <td>NaN</td>\n      <td>Elizabeth</td>\n      <td>34-039-0003</td>\n      <td>AQS</td>\n      <td>42</td>\n      <td>NaN</td>\n      <td>Elizabeth Lab</td>\n      <td>34-039-0004</td>\n      <td>...</td>\n      <td>1</td>\n      <td>NaN</td>\n      <td>PFIZER LAB SITE</td>\n      <td>36-005-0133</td>\n      <td>AQS</td>\n      <td>NaN</td>\n      <td>NaN</td>\n      <td>NaN</td>\n      <td>NaN</td>\n      <td>NaN</td>\n    </tr>\n    <tr>\n      <th>3</th>\n      <td>1/4/2017</td>\n      <td>6</td>\n      <td>NaN</td>\n      <td>Jersey City</td>\n      <td>34-017-1002</td>\n      <td>AQS</td>\n      <td>27</td>\n      <td>NaN</td>\n      <td>Fort Lee Near Road</td>\n      <td>34-003-0010</td>\n      <td>...</td>\n      <td>3</td>\n      <td>NaN</td>\n      <td>Chester</td>\n      <td>34-027-3001</td>\n      <td>AQS</td>\n      <td>7.0</td>\n      <td>NaN</td>\n      <td>Newark Firehouse</td>\n      <td>34-013-0003</td>\n      <td>AQS</td>\n    </tr>\n    <tr>\n      <th>4</th>\n      <td>1/5/2017</td>\n      <td>6</td>\n      <td>NaN</td>\n      <td>Jersey City</td>\n      <td>34-017-1002</td>\n      <td>AQS</td>\n      <td>28</td>\n      <td>NaN</td>\n      <td>Jersey City</td>\n      <td>34-017-1002</td>\n      <td>...</td>\n      <td>3</td>\n      <td>NaN</td>\n      <td>QUEENS COLLEGE 2</td>\n      <td>36-081-0124</td>\n      <td>AQS</td>\n      <td>NaN</td>\n      <td>NaN</td>\n      <td>NaN</td>\n      <td>NaN</td>\n      <td>NaN</td>\n    </tr>\n  </tbody>\n</table>\n<p>5 rows × 31 columns</p>\n</div>"
     },
     "metadata": {},
     "execution_count": 3
    }
   ],
   "source": [
    "epa_data_df = pd.read_csv(file)\n",
    "epa_data_df.head()"
   ]
  },
  {
   "cell_type": "code",
   "execution_count": 4,
   "metadata": {},
   "outputs": [],
   "source": [
    "epa_data_df['Year'] = pd.DatetimeIndex(epa_data_df['Date']).year\n"
   ]
  },
  {
   "cell_type": "code",
   "execution_count": 5,
   "metadata": {},
   "outputs": [
    {
     "output_type": "execute_result",
     "data": {
      "text/plain": "<pandas.io.formats.style.Styler at 0x14fecaf2388>",
      "text/html": "<style  type=\"text/css\" >\n</style><table id=\"T_43442330_a28a_11ea_91ce_58961dbb4bc5\" ><thead>    <tr>        <th class=\"blank level0\" ></th>        <th class=\"col_heading level0 col0\" >Year</th>        <th class=\"col_heading level0 col1\" >SO2</th>        <th class=\"col_heading level0 col2\" >NO2</th>        <th class=\"col_heading level0 col3\" >O3</th>        <th class=\"col_heading level0 col4\" >CO</th>        <th class=\"col_heading level0 col5\" >PM10</th>        <th class=\"col_heading level0 col6\" >PM2.5</th>        <th class=\"col_heading level0 col7\" >City</th>    </tr></thead><tbody>\n                <tr>\n                        <th id=\"T_43442330_a28a_11ea_91ce_58961dbb4bc5level0_row0\" class=\"row_heading level0 row0\" >0</th>\n                        <td id=\"T_43442330_a28a_11ea_91ce_58961dbb4bc5row0_col0\" class=\"data row0 col0\" >2017</td>\n                        <td id=\"T_43442330_a28a_11ea_91ce_58961dbb4bc5row0_col1\" class=\"data row0 col1\" >2.88</td>\n                        <td id=\"T_43442330_a28a_11ea_91ce_58961dbb4bc5row0_col2\" class=\"data row0 col2\" >38.13</td>\n                        <td id=\"T_43442330_a28a_11ea_91ce_58961dbb4bc5row0_col3\" class=\"data row0 col3\" >46.11</td>\n                        <td id=\"T_43442330_a28a_11ea_91ce_58961dbb4bc5row0_col4\" class=\"data row0 col4\" >7.21</td>\n                        <td id=\"T_43442330_a28a_11ea_91ce_58961dbb4bc5row0_col5\" class=\"data row0 col5\" >14.60</td>\n                        <td id=\"T_43442330_a28a_11ea_91ce_58961dbb4bc5row0_col6\" class=\"data row0 col6\" >49.54</td>\n                        <td id=\"T_43442330_a28a_11ea_91ce_58961dbb4bc5row0_col7\" class=\"data row0 col7\" >New York</td>\n            </tr>\n            <tr>\n                        <th id=\"T_43442330_a28a_11ea_91ce_58961dbb4bc5level0_row1\" class=\"row_heading level0 row1\" >1</th>\n                        <td id=\"T_43442330_a28a_11ea_91ce_58961dbb4bc5row1_col0\" class=\"data row1 col0\" >2018</td>\n                        <td id=\"T_43442330_a28a_11ea_91ce_58961dbb4bc5row1_col1\" class=\"data row1 col1\" >3.05</td>\n                        <td id=\"T_43442330_a28a_11ea_91ce_58961dbb4bc5row1_col2\" class=\"data row1 col2\" >38.39</td>\n                        <td id=\"T_43442330_a28a_11ea_91ce_58961dbb4bc5row1_col3\" class=\"data row1 col3\" >47.12</td>\n                        <td id=\"T_43442330_a28a_11ea_91ce_58961dbb4bc5row1_col4\" class=\"data row1 col4\" >8.16</td>\n                        <td id=\"T_43442330_a28a_11ea_91ce_58961dbb4bc5row1_col5\" class=\"data row1 col5\" >14.35</td>\n                        <td id=\"T_43442330_a28a_11ea_91ce_58961dbb4bc5row1_col6\" class=\"data row1 col6\" >50.06</td>\n                        <td id=\"T_43442330_a28a_11ea_91ce_58961dbb4bc5row1_col7\" class=\"data row1 col7\" >New York</td>\n            </tr>\n            <tr>\n                        <th id=\"T_43442330_a28a_11ea_91ce_58961dbb4bc5level0_row2\" class=\"row_heading level0 row2\" >2</th>\n                        <td id=\"T_43442330_a28a_11ea_91ce_58961dbb4bc5row2_col0\" class=\"data row2 col0\" >2019</td>\n                        <td id=\"T_43442330_a28a_11ea_91ce_58961dbb4bc5row2_col1\" class=\"data row2 col1\" >3.04</td>\n                        <td id=\"T_43442330_a28a_11ea_91ce_58961dbb4bc5row2_col2\" class=\"data row2 col2\" >38.81</td>\n                        <td id=\"T_43442330_a28a_11ea_91ce_58961dbb4bc5row2_col3\" class=\"data row2 col3\" >46.92</td>\n                        <td id=\"T_43442330_a28a_11ea_91ce_58961dbb4bc5row2_col4\" class=\"data row2 col4\" >7.85</td>\n                        <td id=\"T_43442330_a28a_11ea_91ce_58961dbb4bc5row2_col5\" class=\"data row2 col5\" >14.13</td>\n                        <td id=\"T_43442330_a28a_11ea_91ce_58961dbb4bc5row2_col6\" class=\"data row2 col6\" >47.67</td>\n                        <td id=\"T_43442330_a28a_11ea_91ce_58961dbb4bc5row2_col7\" class=\"data row2 col7\" >New York</td>\n            </tr>\n    </tbody></table>"
     },
     "metadata": {},
     "execution_count": 5
    }
   ],
   "source": [
    "new_epadata_df = epa_data_df[['Year', 'Sulfur Dioxide AQI Value',  'Nitrogen Dioxide AQI Value','Ozone AQI Value','Carbon Monoxide AQI Value','PM10 AQI Value', 'PM2.5 AQI Value']].copy()\n",
    "\n",
    "city = ['New York', 'New York', 'New York'] \n",
    "clean_df = new_epadata_df.groupby('Year', as_index=False).mean()\n",
    "clean_df['City'] = city\n",
    "clean_df = clean_df.rename(columns={'Sulfur Dioxide AQI Value': 'SO2','Nitrogen Dioxide AQI Value':'NO2', 'Ozone AQI Value':'O3', 'Carbon Monoxide AQI Value': 'CO','PM10 AQI Value': 'PM10', 'PM2.5 AQI Value': 'PM2.5'})\n",
    "\n",
    "clean_df.style.format({'SO2': \"{:,.2f}\", 'NO2': '{:.2f}', 'O3': '{:.2f}', 'CO': '{:,.2f}', 'PM10': '{:,.2f}', 'PM2.5': '{:,.2f}'})\n",
    "\n"
   ]
  },
  {
   "cell_type": "code",
   "execution_count": 6,
   "metadata": {},
   "outputs": [],
   "source": [
    "rds_connection_string = \"postgres:postgres@localhost:5432/NYEPA_db\"\n",
    "engine = create_engine(f'postgresql://{rds_connection_string}')"
   ]
  },
  {
   "cell_type": "code",
   "execution_count": 7,
   "metadata": {},
   "outputs": [
    {
     "output_type": "execute_result",
     "data": {
      "text/plain": "[]"
     },
     "metadata": {},
     "execution_count": 7
    }
   ],
   "source": [
    "engine.table_names()"
   ]
  },
  {
   "cell_type": "code",
   "execution_count": 8,
   "metadata": {},
   "outputs": [],
   "source": [
    "clean_df.to_sql(name='NYPollution', con=engine, if_exists='append', index=False)\n"
   ]
  },
  {
   "cell_type": "code",
   "execution_count": null,
   "metadata": {},
   "outputs": [],
   "source": []
  }
 ],
 "metadata": {
  "language_info": {
   "codemirror_mode": {
    "name": "ipython",
    "version": 3
   },
   "file_extension": ".py",
   "mimetype": "text/x-python",
   "name": "python",
   "nbconvert_exporter": "python",
   "pygments_lexer": "ipython3",
   "version": "3.7.6-final"
  },
  "orig_nbformat": 2,
  "kernelspec": {
   "name": "python3",
   "display_name": "Python 3"
  }
 },
 "nbformat": 4,
 "nbformat_minor": 2
}